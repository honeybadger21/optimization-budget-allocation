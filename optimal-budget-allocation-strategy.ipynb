{
 "cells": [
  {
   "cell_type": "markdown",
   "metadata": {},
   "source": [
    "### Optimal Budget Allocation Strategy\n",
    "#### Created by Ruchi Sharma for Optimization Project 01 Submission at UT Austin"
   ]
  },
  {
   "cell_type": "markdown",
   "metadata": {},
   "source": [
    "##### Background\n",
    "\n",
    "Marketing budgets now comprise 11 percent of total company budgets, based on a CMO survey sponsored by the Fuqua School of Business at Duke University, Deloitte LLP, and the American Marketing Association. However, the effectiveness of marketing varies significantly. One potential reason for such variation is the way of making marketing budget allocations. Namely, how much to invest in each advertisement platform. In this project, we use linear programming to build a simple marketing budget allocation strategy."
   ]
  },
  {
   "cell_type": "markdown",
   "metadata": {},
   "source": [
    "##### Specifics\n",
    "\n",
    "The provided information and constraints are as follows:\n",
    "1. Marketing budget of \\$10 million.\n",
    "2. The amount invested in print and TV advertising should be no more than the amount\n",
    "spent on Facebook and Email.\n",
    "3. The total amount used in social media should be at least twice of SEO and AdWords.\n",
    "4. For each platform, the amount invested should be no more than $3M."
   ]
  },
  {
   "cell_type": "code",
   "execution_count": 1,
   "metadata": {},
   "outputs": [],
   "source": [
    "import numpy as np\n",
    "import gurobipy as gp"
   ]
  },
  {
   "cell_type": "code",
   "execution_count": 2,
   "metadata": {},
   "outputs": [],
   "source": [
    "# Reading csv\n",
    "\n",
    "import pandas as pd\n",
    "temp1 = pd.read_csv(\"ROI_data.csv\", index_col = 0)"
   ]
  },
  {
   "cell_type": "code",
   "execution_count": 3,
   "metadata": {
    "scrolled": true
   },
   "outputs": [],
   "source": [
    "obj = np.array(temp1.iloc[0]) \n",
    "obj2 = np.array(temp1.iloc[1])"
   ]
  },
  {
   "cell_type": "markdown",
   "metadata": {},
   "source": [
    "#### Task: Formulating the marketing budget allocation problem as a linear program. Using gurobi to find the optimal budget allocation.\n"
   ]
  },
  {
   "cell_type": "markdown",
   "metadata": {},
   "source": [
    "Starting with reading in the ROI_data csv file in order to retrieve the data for marketing medium return percentages. Further, realiszing the required constraints to form the linear program. The code below taken into account the set objective function 'obj'. The aim is to maximize ROI by choosing the optimal allocation of the budget into each of the marketing mediums. "
   ]
  },
  {
   "cell_type": "code",
   "execution_count": 4,
   "metadata": {},
   "outputs": [],
   "source": [
    "# Objective Vector\n",
    "# obj = np.array([0.031, 0.049, 0.024, 0.039, 0.016, 0.024, 0.046, 0.026, 0.033, 0.044])\n",
    "\n",
    "# Constraint Matrix\n",
    "A = np.zeros((13, 10))\n",
    "\n",
    "A[0, :] = [1, 1, 0, 0, -1, 0, 0, 0, 0, -1]\n",
    "A[1, :] = [0, 0, -2, -2, 1, 1, 1, 1, 1, 0]\n",
    "A[2, :] = [1, 1, 1, 1, 1, 1, 1, 1, 1, 1]\n",
    "A[3:13,0:10] = np.diag(np.ones(10)) \n",
    "\n",
    "# Limits \n",
    "\n",
    "b = np.array([0, 0, 10, 3, 3, 3, 3, 3, 3, 3, 3, 3, 3])\n",
    "sense = np.array(['<', '>', '<', '<', '<', '<', '<', '<', '<', '<', '<', '<', '<'])"
   ]
  },
  {
   "cell_type": "code",
   "execution_count": 5,
   "metadata": {},
   "outputs": [
    {
     "name": "stdout",
     "output_type": "stream",
     "text": [
      "Set parameter Username\n",
      "Academic license - for non-commercial use only - expires 2023-08-17\n"
     ]
    }
   ],
   "source": [
    "# Initializing empty model\n",
    "ojModel = gp.Model() \n",
    "\n",
    "# Specifying number of variables \n",
    "ojModX = ojModel.addMVar(10) \n",
    "\n",
    "# Adding constraints\n",
    "ojModCon = ojModel.addMConstrs(A, ojModX, sense, b)\n",
    "\n",
    "# Add objective\n",
    "ojModel.setMObjective(None, obj, 0, sense = gp.GRB.MAXIMIZE) \n",
    "\n",
    "ojModel.Params.OutputFlag = 0 \n",
    "ojModel.Params.TimeLimit = 3600"
   ]
  },
  {
   "cell_type": "code",
   "execution_count": 6,
   "metadata": {},
   "outputs": [],
   "source": [
    "ojModel.optimize()"
   ]
  },
  {
   "cell_type": "code",
   "execution_count": 7,
   "metadata": {},
   "outputs": [
    {
     "data": {
      "text/plain": [
       "0.45600000000000007"
      ]
     },
     "execution_count": 7,
     "metadata": {},
     "output_type": "execute_result"
    }
   ],
   "source": [
    "ojModel.objVal"
   ]
  },
  {
   "cell_type": "code",
   "execution_count": 8,
   "metadata": {},
   "outputs": [
    {
     "data": {
      "text/plain": [
       "array([0., 3., 0., 1., 0., 0., 3., 0., 0., 3.])"
      ]
     },
     "execution_count": 8,
     "metadata": {},
     "output_type": "execute_result"
    }
   ],
   "source": [
    "ojModX.x"
   ]
  },
  {
   "cell_type": "markdown",
   "metadata": {},
   "source": [
    "From above, the following results can be noted:\n",
    "1. Optimal ROI in dollars is 10,456,000\n",
    "2. Allocation for each Marketing Medium: [0, 3, 0, 1, 0, 0, 3, 0, 0, 3]"
   ]
  },
  {
   "cell_type": "markdown",
   "metadata": {},
   "source": [
    "##### Allocation across platforms - Case 1 "
   ]
  },
  {
   "cell_type": "code",
   "execution_count": 9,
   "metadata": {
    "scrolled": true
   },
   "outputs": [
    {
     "data": {
      "text/plain": [
       "<BarContainer object of 10 artists>"
      ]
     },
     "execution_count": 9,
     "metadata": {},
     "output_type": "execute_result"
    },
    {
     "data": {
      "image/png": "[encoded data removed]",
      "text/plain": [
       "<Figure size 800x240 with 1 Axes>"
      ]
     },
     "metadata": {},
     "output_type": "display_data"
    }
   ],
   "source": [
    "from matplotlib import pyplot as plt\n",
    "from matplotlib.pyplot import figure\n",
    "figure(figsize=(10, 3), dpi=80)\n",
    "\n",
    "plt.bar(['Print', 'TV', 'SEO', 'AdWords', 'Facebook', 'LinkedIn', 'Instagram', 'Snapchat', 'Twitter', 'Email'], \n",
    "        ojModX.x)"
   ]
  },
  {
   "cell_type": "markdown",
   "metadata": {},
   "source": [
    "#### Task: Comparing with second set of ROI values. Setting up a new objective function and repeating the analysis as done previously. "
   ]
  },
  {
   "cell_type": "markdown",
   "metadata": {},
   "source": [
    "Using the same constraints and objectives as used previously to construct second model, except using the ROI values from the second row in the ROI_data csv dataset, Objective 'Obj2'."
   ]
  },
  {
   "cell_type": "code",
   "execution_count": 10,
   "metadata": {},
   "outputs": [
    {
     "data": {
      "text/plain": [
       "0.45600000000000007"
      ]
     },
     "execution_count": 10,
     "metadata": {},
     "output_type": "execute_result"
    }
   ],
   "source": [
    "# Setting the new Objective Function\n",
    "# obj2 = np.array([0.049, 0.023, 0.024, 0.039, 0.044, 0.046, 0.026, 0.019, 0.037, 0.026])\n",
    "\n",
    "ojModel2 = gp.Model() \n",
    "ojModX2 = ojModel2.addMVar(10) \n",
    "\n",
    "ojModCon2 = ojModel2.addMConstrs(A, ojModX2, sense, b)\n",
    "\n",
    "ojModel2.setMObjective(None, obj2, 0, sense = gp.GRB.MAXIMIZE) \n",
    "ojModel2.Params.OutputFlag = 0 # tell gurobi to shut up!!\n",
    "ojModel2.Params.TimeLimit = 3600\n",
    "\n",
    "ojModel2.optimize()\n",
    "ojModel2.objVal"
   ]
  },
  {
   "cell_type": "code",
   "execution_count": 11,
   "metadata": {},
   "outputs": [
    {
     "data": {
      "text/plain": [
       "array([3., 0., 0., 1., 3., 3., 0., 0., 0., 0.])"
      ]
     },
     "execution_count": 11,
     "metadata": {},
     "output_type": "execute_result"
    }
   ],
   "source": [
    "ojModX2.x"
   ]
  },
  {
   "cell_type": "markdown",
   "metadata": {},
   "source": [
    "From above, the following results can be noted:\n",
    "1. Optimal ROI in dollars is 10,456,000\n",
    "2. Allocation for each Marketing Medium: [3, 0, 0, 1, 3, 3, 0, 0, 0, 0]"
   ]
  },
  {
   "cell_type": "markdown",
   "metadata": {},
   "source": [
    "##### Allocation across platforms - Case 2"
   ]
  },
  {
   "cell_type": "code",
   "execution_count": 12,
   "metadata": {},
   "outputs": [
    {
     "data": {
      "text/plain": [
       "<BarContainer object of 10 artists>"
      ]
     },
     "execution_count": 12,
     "metadata": {},
     "output_type": "execute_result"
    },
    {
     "data": {
      "image/png": "[encoded data removed]",
      "text/plain": [
       "<Figure size 800x240 with 1 Axes>"
      ]
     },
     "metadata": {},
     "output_type": "display_data"
    }
   ],
   "source": [
    "figure(figsize=(10, 3), dpi=80)\n",
    "plt.bar(['Print', 'TV', 'SEO', 'AdWords', 'Facebook', 'LinkedIn', 'Instagram', 'Snapchat', 'Twitter', 'Email'], \n",
    "        ojModX2.x)"
   ]
  },
  {
   "cell_type": "markdown",
   "metadata": {},
   "source": [
    "#### Task: Assuming the first ROI data is correct, and using the second allocation to see how much lower would the objective be relative to the optimal objective. "
   ]
  },
  {
   "cell_type": "code",
   "execution_count": 13,
   "metadata": {
    "scrolled": true
   },
   "outputs": [
    {
     "data": {
      "text/plain": [
       "0.20400000000000007"
      ]
     },
     "execution_count": 13,
     "metadata": {},
     "output_type": "execute_result"
    }
   ],
   "source": [
    "ojModel.objVal - obj.dot(ojModel2.x)"
   ]
  },
  {
   "cell_type": "markdown",
   "metadata": {},
   "source": [
    "Both cases result in different allocations. Assuming the first ROI data is correct, using the second allocation the objective relative to the optimal objective is lower by $0.204 million."
   ]
  },
  {
   "cell_type": "markdown",
   "metadata": {},
   "source": [
    "#### Task: Assuming the second ROI data is correct, using the first allocation to see how much lower would the objective be relative to the optimal objective"
   ]
  },
  {
   "cell_type": "code",
   "execution_count": 14,
   "metadata": {},
   "outputs": [
    {
     "data": {
      "text/plain": [
       "0.19200000000000006"
      ]
     },
     "execution_count": 14,
     "metadata": {},
     "output_type": "execute_result"
    }
   ],
   "source": [
    "ojModel2.objVal - obj2.dot(ojModel.x)"
   ]
  },
  {
   "cell_type": "markdown",
   "metadata": {},
   "source": [
    "Assuming the second ROI data is correct, using the first allocation the objective relative to the optimal objective is lower by $0.192 million.\n",
    "\n",
    "Further analysis: The third constraint penalizes the value of all allocations to be less than $3M which seems feasible. In case of a higher limit, fewer variables could become more dominant while for a lower limit, the allocation could be more distributed leading to small investments across more channels. "
   ]
  },
  {
   "cell_type": "markdown",
   "metadata": {},
   "source": [
    "#### Task: Performing sensitivity analysis to analyze how the optimal allocation changes based on ROI data. "
   ]
  },
  {
   "cell_type": "markdown",
   "metadata": {},
   "source": [
    "Closely looking into the range in which each advertising medium’s ROI could increase or decrease but still result in the same optimal allocation as found earlier. "
   ]
  },
  {
   "cell_type": "code",
   "execution_count": 15,
   "metadata": {},
   "outputs": [],
   "source": [
    "ojModel = gp.Model() \n",
    "ojModX = ojModel.addMVar(10) \n",
    "ojModCon = ojModel.addMConstrs(A, ojModX, sense, b)\n",
    "ojModel.setMObjective(None, obj, 0, sense = gp.GRB.MAXIMIZE) \n",
    "\n",
    "ojModel.Params.OutputFlag = 0 \n",
    "ojModel.Params.TimeLimit = 3600\n",
    "\n",
    "ojModel.optimize()\n",
    "\n",
    "# [con.Pi for con in ojModCon] \n",
    "# [con.SARHSLow for con in ojModCon]"
   ]
  },
  {
   "cell_type": "code",
   "execution_count": 16,
   "metadata": {},
   "outputs": [
    {
     "data": {
      "text/plain": [
       "[0.0, 1.0, 10.5, inf, inf, inf, inf, inf, inf, 4.0, inf, inf, 3.0]"
      ]
     },
     "execution_count": 16,
     "metadata": {},
     "output_type": "execute_result"
    }
   ],
   "source": [
    "[con.SARHSUp for con in ojModCon]"
   ]
  },
  {
   "cell_type": "code",
   "execution_count": 17,
   "metadata": {},
   "outputs": [
    {
     "data": {
      "text/plain": [
       "0.556"
      ]
     },
     "execution_count": 17,
     "metadata": {},
     "output_type": "execute_result"
    }
   ],
   "source": [
    "db = 10\n",
    "ojModel.Objval + db*ojModCon[0].Pi"
   ]
  },
  {
   "cell_type": "code",
   "execution_count": 18,
   "metadata": {},
   "outputs": [
    {
     "data": {
      "text/plain": [
       "0.45600000000000007"
      ]
     },
     "execution_count": 18,
     "metadata": {},
     "output_type": "execute_result"
    }
   ],
   "source": [
    "b2 = np.array([0+db, 0, 10, 3, 3, 3, 3, 3, 3, 3, 3, 3, 3])\n",
    "\n",
    "ojModel2 = gp.Model()\n",
    "ojMod_x2 = ojModel2.addMVar(10) \n",
    "ojMod_con2 = ojModel2.addMConstrs(A, ojMod_x2, sense, b2) \n",
    "ojModel2.setMObjective(None,obj,0,sense=gp.GRB.MAXIMIZE)\n",
    "\n",
    "ojModel2.Params.OutputFlag = 0\n",
    "ojModel2.optimize()\n",
    "\n",
    "ojModel2.Objval"
   ]
  },
  {
   "cell_type": "code",
   "execution_count": 19,
   "metadata": {},
   "outputs": [
    {
     "data": {
      "text/plain": [
       "array([ -inf, 0.039,  -inf, 0.033,  -inf,  -inf, 0.039,  -inf,  -inf,\n",
       "       0.029])"
      ]
     },
     "execution_count": 19,
     "metadata": {},
     "output_type": "execute_result"
    }
   ],
   "source": [
    "ojModX.SAObjLow"
   ]
  },
  {
   "cell_type": "code",
   "execution_count": 20,
   "metadata": {},
   "outputs": [
    {
     "data": {
      "text/plain": [
       "array([0.049, 0.062, 0.039, 0.046, 0.029, 0.039,   inf, 0.039, 0.039,\n",
       "         inf])"
      ]
     },
     "execution_count": 20,
     "metadata": {},
     "output_type": "execute_result"
    }
   ],
   "source": [
    "ojModX.SAObjUp"
   ]
  },
  {
   "cell_type": "markdown",
   "metadata": {},
   "source": [
    "#### Task: Your boss has gained permission to reinvest half of the return. What is the optimal allocation for each month?"
   ]
  },
  {
   "cell_type": "code",
   "execution_count": 21,
   "metadata": {
    "scrolled": true
   },
   "outputs": [
    {
     "name": "stdout",
     "output_type": "stream",
     "text": [
      "Returns: \n",
      "1 0.373\n",
      "2 0.40629600000000005\n",
      "3 0.407516476\n",
      "4 0.40033529656800004\n",
      "5 0.41100586768993996\n",
      "6 0.4238091114861089\n",
      "7 0.4282642776739791\n",
      "8 0.4379935498311536\n",
      "9 0.40271237905933416\n",
      "10 0.37144339806494936\n",
      "11 0.4416145896603315\n",
      "12 0.43250108085096145\n"
     ]
    }
   ],
   "source": [
    "import pandas as pd\n",
    "\n",
    "roi = pd.read_csv(\"roi_mat.csv\",index_col = \"Unnamed: 0\") / 100\n",
    "\n",
    "# initialize constraint matrix\n",
    "\n",
    "A = np.ones((3, 10))  # inital A with 1\n",
    "\n",
    "A[0, :] = [1., 1, 0, 0, -1, 0, 0, 0, 0, -1]\n",
    "A[1, :] = [0, 0, -2., -2, 1, 1, 1, 1, 1, 0]\n",
    "\n",
    "roi_data_months = roi\n",
    "\n",
    "optimal_allocation = roi_data_months.copy()\n",
    "\n",
    "# display(roi)\n",
    "\n",
    "ub = np.array([3.]*10)\n",
    "b = np.array([0, 0, 10.])\n",
    "\n",
    "sense = np.array(['<', '>', '='])  # liability constraint\n",
    "\n",
    "print(\"Returns: \")\n",
    "returns = []\n",
    "\n",
    "for i in range(roi_data_months.shape[0]):\n",
    "    obj = np.array(roi_data_months.iloc[i][:])  # setup objective vector\n",
    "    ojModel = gp.Model()  # initialize an empty model\n",
    "    \n",
    "    ojModX = ojModel.addMVar(10, ub=ub)\n",
    "    ojModCon = ojModel.addMConstrs(A, ojModX, sense, b)\n",
    "    \n",
    "    ojModel.setMObjective(None, obj, 0, sense=gp.GRB.MAXIMIZE)\n",
    "    ojModel.Params.OutputFlag = 0  # tell gurobi to shut up!!\n",
    "    ojModel.optimize()  # solve the LP\n",
    "    \n",
    "    #adjust the amount to be invested\n",
    "    optimal_allocation.iloc[i,:] = ojModX.x\n",
    "    \n",
    "    b[2]= 10 + np.dot(ojModX.x,obj)/2.\n",
    "    \n",
    "    # print(np.dot(ojModX.x,obj))\n",
    "    print(i+1, ojModel.objVal)\n",
    "    returns.append(ojModel.objVal)\n",
    "\n",
    "# optimal_allocation"
   ]
  },
  {
   "cell_type": "markdown",
   "metadata": {},
   "source": [
    "##### Plot of Returns obtained across Months"
   ]
  },
  {
   "cell_type": "code",
   "execution_count": 22,
   "metadata": {},
   "outputs": [
    {
     "data": {
      "text/plain": [
       "<BarContainer object of 12 artists>"
      ]
     },
     "execution_count": 22,
     "metadata": {},
     "output_type": "execute_result"
    },
    {
     "data": {
      "image/png": "[encoded data removed]",
      "text/plain": [
       "<Figure size 960x240 with 1 Axes>"
      ]
     },
     "metadata": {},
     "output_type": "display_data"
    }
   ],
   "source": [
    "figure(figsize=(12, 3), dpi=80)\n",
    "plt.bar(['Jan', 'Feb', 'Mar', 'Apr', 'May', 'Jun', 'Jul', 'Aug', 'Sep', 'Oct', 'Nov', 'Dec'],  \n",
    "        returns)"
   ]
  },
  {
   "cell_type": "code",
   "execution_count": 23,
   "metadata": {
    "scrolled": true
   },
   "outputs": [
    {
     "data": {
      "text/html": [
       "<div>\n",
       "<style scoped>\n",
       "    .dataframe tbody tr th:only-of-type {\n",
       "        vertical-align: middle;\n",
       "    }\n",
       "\n",
       "    .dataframe tbody tr th {\n",
       "        vertical-align: top;\n",
       "    }\n",
       "\n",
       "    .dataframe thead th {\n",
       "        text-align: right;\n",
       "    }\n",
       "</style>\n",
       "<table border=\"1\" class=\"dataframe\">\n",
       "  <thead>\n",
       "    <tr style=\"text-align: right;\">\n",
       "      <th></th>\n",
       "      <th>Print</th>\n",
       "      <th>TV</th>\n",
       "      <th>SEO</th>\n",
       "      <th>AdWords</th>\n",
       "      <th>Facebook</th>\n",
       "      <th>LinkedIn</th>\n",
       "      <th>Instagram</th>\n",
       "      <th>Snapchat</th>\n",
       "      <th>Twitter</th>\n",
       "      <th>Email</th>\n",
       "    </tr>\n",
       "  </thead>\n",
       "  <tbody>\n",
       "    <tr>\n",
       "      <th>January</th>\n",
       "      <td>3.000000</td>\n",
       "      <td>0.000000</td>\n",
       "      <td>0.0</td>\n",
       "      <td>1.333333</td>\n",
       "      <td>0.000000</td>\n",
       "      <td>0.0</td>\n",
       "      <td>2.666667</td>\n",
       "      <td>0.0</td>\n",
       "      <td>0.000000</td>\n",
       "      <td>3.000000</td>\n",
       "    </tr>\n",
       "    <tr>\n",
       "      <th>February</th>\n",
       "      <td>3.000000</td>\n",
       "      <td>0.000000</td>\n",
       "      <td>0.0</td>\n",
       "      <td>2.395500</td>\n",
       "      <td>3.000000</td>\n",
       "      <td>0.0</td>\n",
       "      <td>0.000000</td>\n",
       "      <td>0.0</td>\n",
       "      <td>1.791000</td>\n",
       "      <td>0.000000</td>\n",
       "    </tr>\n",
       "    <tr>\n",
       "      <th>March</th>\n",
       "      <td>0.000000</td>\n",
       "      <td>0.000000</td>\n",
       "      <td>0.0</td>\n",
       "      <td>3.000000</td>\n",
       "      <td>0.000000</td>\n",
       "      <td>3.0</td>\n",
       "      <td>1.203148</td>\n",
       "      <td>0.0</td>\n",
       "      <td>3.000000</td>\n",
       "      <td>0.000000</td>\n",
       "    </tr>\n",
       "    <tr>\n",
       "      <th>April</th>\n",
       "      <td>0.000000</td>\n",
       "      <td>0.000000</td>\n",
       "      <td>0.0</td>\n",
       "      <td>3.000000</td>\n",
       "      <td>0.000000</td>\n",
       "      <td>3.0</td>\n",
       "      <td>3.000000</td>\n",
       "      <td>0.0</td>\n",
       "      <td>1.203758</td>\n",
       "      <td>0.000000</td>\n",
       "    </tr>\n",
       "    <tr>\n",
       "      <th>May</th>\n",
       "      <td>1.200168</td>\n",
       "      <td>0.000000</td>\n",
       "      <td>0.0</td>\n",
       "      <td>0.000000</td>\n",
       "      <td>0.000000</td>\n",
       "      <td>0.0</td>\n",
       "      <td>3.000000</td>\n",
       "      <td>0.0</td>\n",
       "      <td>3.000000</td>\n",
       "      <td>3.000000</td>\n",
       "    </tr>\n",
       "    <tr>\n",
       "      <th>June</th>\n",
       "      <td>3.000000</td>\n",
       "      <td>0.000000</td>\n",
       "      <td>0.0</td>\n",
       "      <td>0.000000</td>\n",
       "      <td>0.000000</td>\n",
       "      <td>0.0</td>\n",
       "      <td>3.000000</td>\n",
       "      <td>0.0</td>\n",
       "      <td>1.205503</td>\n",
       "      <td>3.000000</td>\n",
       "    </tr>\n",
       "    <tr>\n",
       "      <th>July</th>\n",
       "      <td>0.000000</td>\n",
       "      <td>0.000000</td>\n",
       "      <td>0.0</td>\n",
       "      <td>3.000000</td>\n",
       "      <td>1.211905</td>\n",
       "      <td>0.0</td>\n",
       "      <td>3.000000</td>\n",
       "      <td>0.0</td>\n",
       "      <td>3.000000</td>\n",
       "      <td>0.000000</td>\n",
       "    </tr>\n",
       "    <tr>\n",
       "      <th>August</th>\n",
       "      <td>2.714132</td>\n",
       "      <td>0.000000</td>\n",
       "      <td>0.0</td>\n",
       "      <td>1.500000</td>\n",
       "      <td>0.000000</td>\n",
       "      <td>0.0</td>\n",
       "      <td>0.000000</td>\n",
       "      <td>0.0</td>\n",
       "      <td>3.000000</td>\n",
       "      <td>3.000000</td>\n",
       "    </tr>\n",
       "    <tr>\n",
       "      <th>September</th>\n",
       "      <td>0.609498</td>\n",
       "      <td>0.000000</td>\n",
       "      <td>0.0</td>\n",
       "      <td>3.000000</td>\n",
       "      <td>0.000000</td>\n",
       "      <td>3.0</td>\n",
       "      <td>0.000000</td>\n",
       "      <td>0.0</td>\n",
       "      <td>3.000000</td>\n",
       "      <td>0.609498</td>\n",
       "    </tr>\n",
       "    <tr>\n",
       "      <th>October</th>\n",
       "      <td>0.000000</td>\n",
       "      <td>0.000000</td>\n",
       "      <td>0.0</td>\n",
       "      <td>3.000000</td>\n",
       "      <td>0.000000</td>\n",
       "      <td>3.0</td>\n",
       "      <td>3.000000</td>\n",
       "      <td>0.0</td>\n",
       "      <td>0.000000</td>\n",
       "      <td>1.201356</td>\n",
       "    </tr>\n",
       "    <tr>\n",
       "      <th>November</th>\n",
       "      <td>3.000000</td>\n",
       "      <td>0.000000</td>\n",
       "      <td>0.0</td>\n",
       "      <td>1.185722</td>\n",
       "      <td>0.000000</td>\n",
       "      <td>0.0</td>\n",
       "      <td>3.000000</td>\n",
       "      <td>0.0</td>\n",
       "      <td>0.000000</td>\n",
       "      <td>3.000000</td>\n",
       "    </tr>\n",
       "    <tr>\n",
       "      <th>December</th>\n",
       "      <td>3.000000</td>\n",
       "      <td>2.110404</td>\n",
       "      <td>0.0</td>\n",
       "      <td>0.000000</td>\n",
       "      <td>3.000000</td>\n",
       "      <td>0.0</td>\n",
       "      <td>0.000000</td>\n",
       "      <td>0.0</td>\n",
       "      <td>0.000000</td>\n",
       "      <td>2.110404</td>\n",
       "    </tr>\n",
       "  </tbody>\n",
       "</table>\n",
       "</div>"
      ],
      "text/plain": [
       "              Print        TV  SEO   AdWords  Facebook  LinkedIn  Instagram  \\\n",
       "January    3.000000  0.000000  0.0  1.333333  0.000000       0.0   2.666667   \n",
       "February   3.000000  0.000000  0.0  2.395500  3.000000       0.0   0.000000   \n",
       "March      0.000000  0.000000  0.0  3.000000  0.000000       3.0   1.203148   \n",
       "April      0.000000  0.000000  0.0  3.000000  0.000000       3.0   3.000000   \n",
       "May        1.200168  0.000000  0.0  0.000000  0.000000       0.0   3.000000   \n",
       "June       3.000000  0.000000  0.0  0.000000  0.000000       0.0   3.000000   \n",
       "July       0.000000  0.000000  0.0  3.000000  1.211905       0.0   3.000000   \n",
       "August     2.714132  0.000000  0.0  1.500000  0.000000       0.0   0.000000   \n",
       "September  0.609498  0.000000  0.0  3.000000  0.000000       3.0   0.000000   \n",
       "October    0.000000  0.000000  0.0  3.000000  0.000000       3.0   3.000000   \n",
       "November   3.000000  0.000000  0.0  1.185722  0.000000       0.0   3.000000   \n",
       "December   3.000000  2.110404  0.0  0.000000  3.000000       0.0   0.000000   \n",
       "\n",
       "           Snapchat   Twitter     Email  \n",
       "January         0.0  0.000000  3.000000  \n",
       "February        0.0  1.791000  0.000000  \n",
       "March           0.0  3.000000  0.000000  \n",
       "April           0.0  1.203758  0.000000  \n",
       "May             0.0  3.000000  3.000000  \n",
       "June            0.0  1.205503  3.000000  \n",
       "July            0.0  3.000000  0.000000  \n",
       "August          0.0  3.000000  3.000000  \n",
       "September       0.0  3.000000  0.609498  \n",
       "October         0.0  0.000000  1.201356  \n",
       "November        0.0  0.000000  3.000000  \n",
       "December        0.0  0.000000  2.110404  "
      ]
     },
     "execution_count": 23,
     "metadata": {},
     "output_type": "execute_result"
    }
   ],
   "source": [
    "optimal_allocation"
   ]
  },
  {
   "cell_type": "markdown",
   "metadata": {},
   "source": [
    "###### End of Code."
   ]
  }
 ],
 "metadata": {
  "kernelspec": {
   "display_name": "Python 3 (ipykernel)",
   "language": "python",
   "name": "python3"
  },
  "language_info": {
   "codemirror_mode": {
    "name": "ipython",
    "version": 3
   },
   "file_extension": ".py",
   "mimetype": "text/x-python",
   "name": "python",
   "nbconvert_exporter": "python",
   "pygments_lexer": "ipython3",
   "version": "3.8.2"
  }
 },
 "nbformat": 4,
 "nbformat_minor": 4
}
